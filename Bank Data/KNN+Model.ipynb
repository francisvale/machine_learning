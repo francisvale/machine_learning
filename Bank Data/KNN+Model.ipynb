{
 "cells": [
  {
   "cell_type": "code",
   "execution_count": 1,
   "metadata": {},
   "outputs": [],
   "source": [
    "#Importing pandas library to read CSV data file\n",
    "import pandas as pd"
   ]
  },
  {
   "cell_type": "code",
   "execution_count": 2,
   "metadata": {},
   "outputs": [],
   "source": [
    "#Reading CSV data file in Python\n",
    "dataset = pd.read_csv('Bank_Data.csv')"
   ]
  },
  {
   "cell_type": "code",
   "execution_count": 3,
   "metadata": {},
   "outputs": [
    {
     "data": {
      "text/html": [
       "<div>\n",
       "<style scoped>\n",
       "    .dataframe tbody tr th:only-of-type {\n",
       "        vertical-align: middle;\n",
       "    }\n",
       "\n",
       "    .dataframe tbody tr th {\n",
       "        vertical-align: top;\n",
       "    }\n",
       "\n",
       "    .dataframe thead th {\n",
       "        text-align: right;\n",
       "    }\n",
       "</style>\n",
       "<table border=\"1\" class=\"dataframe\">\n",
       "  <thead>\n",
       "    <tr style=\"text-align: right;\">\n",
       "      <th></th>\n",
       "      <th>AGE</th>\n",
       "      <th>HOME</th>\n",
       "      <th>INCOME</th>\n",
       "      <th>GENDER</th>\n",
       "      <th>HOUSEHOLD_N</th>\n",
       "      <th>CREDIT_LINES_N</th>\n",
       "      <th>DEAFULTED</th>\n",
       "    </tr>\n",
       "  </thead>\n",
       "  <tbody>\n",
       "    <tr>\n",
       "      <th>0</th>\n",
       "      <td>23</td>\n",
       "      <td>R</td>\n",
       "      <td>2</td>\n",
       "      <td>M</td>\n",
       "      <td>3</td>\n",
       "      <td>2</td>\n",
       "      <td>1</td>\n",
       "    </tr>\n",
       "    <tr>\n",
       "      <th>1</th>\n",
       "      <td>43</td>\n",
       "      <td>R</td>\n",
       "      <td>3</td>\n",
       "      <td>F</td>\n",
       "      <td>2</td>\n",
       "      <td>2</td>\n",
       "      <td>1</td>\n",
       "    </tr>\n",
       "    <tr>\n",
       "      <th>2</th>\n",
       "      <td>63</td>\n",
       "      <td>R</td>\n",
       "      <td>7</td>\n",
       "      <td>M</td>\n",
       "      <td>3</td>\n",
       "      <td>3</td>\n",
       "      <td>0</td>\n",
       "    </tr>\n",
       "    <tr>\n",
       "      <th>3</th>\n",
       "      <td>46</td>\n",
       "      <td>H</td>\n",
       "      <td>7</td>\n",
       "      <td>F</td>\n",
       "      <td>4</td>\n",
       "      <td>4</td>\n",
       "      <td>0</td>\n",
       "    </tr>\n",
       "    <tr>\n",
       "      <th>4</th>\n",
       "      <td>55</td>\n",
       "      <td>H</td>\n",
       "      <td>7</td>\n",
       "      <td>F</td>\n",
       "      <td>3</td>\n",
       "      <td>4</td>\n",
       "      <td>0</td>\n",
       "    </tr>\n",
       "    <tr>\n",
       "      <th>...</th>\n",
       "      <td>...</td>\n",
       "      <td>...</td>\n",
       "      <td>...</td>\n",
       "      <td>...</td>\n",
       "      <td>...</td>\n",
       "      <td>...</td>\n",
       "      <td>...</td>\n",
       "    </tr>\n",
       "    <tr>\n",
       "      <th>1095</th>\n",
       "      <td>24</td>\n",
       "      <td>R</td>\n",
       "      <td>5</td>\n",
       "      <td>F</td>\n",
       "      <td>5</td>\n",
       "      <td>4</td>\n",
       "      <td>1</td>\n",
       "    </tr>\n",
       "    <tr>\n",
       "      <th>1096</th>\n",
       "      <td>44</td>\n",
       "      <td>H</td>\n",
       "      <td>5</td>\n",
       "      <td>M</td>\n",
       "      <td>3</td>\n",
       "      <td>3</td>\n",
       "      <td>0</td>\n",
       "    </tr>\n",
       "    <tr>\n",
       "      <th>1097</th>\n",
       "      <td>67</td>\n",
       "      <td>H</td>\n",
       "      <td>5</td>\n",
       "      <td>F</td>\n",
       "      <td>1</td>\n",
       "      <td>1</td>\n",
       "      <td>0</td>\n",
       "    </tr>\n",
       "    <tr>\n",
       "      <th>1098</th>\n",
       "      <td>35</td>\n",
       "      <td>R</td>\n",
       "      <td>6</td>\n",
       "      <td>F</td>\n",
       "      <td>3</td>\n",
       "      <td>0</td>\n",
       "      <td>1</td>\n",
       "    </tr>\n",
       "    <tr>\n",
       "      <th>1099</th>\n",
       "      <td>34</td>\n",
       "      <td>H</td>\n",
       "      <td>5</td>\n",
       "      <td>M</td>\n",
       "      <td>3</td>\n",
       "      <td>1</td>\n",
       "      <td>0</td>\n",
       "    </tr>\n",
       "  </tbody>\n",
       "</table>\n",
       "<p>1100 rows × 7 columns</p>\n",
       "</div>"
      ],
      "text/plain": [
       "      AGE HOME  INCOME GENDER  HOUSEHOLD_N  CREDIT_LINES_N  DEAFULTED\n",
       "0      23    R       2      M            3               2          1\n",
       "1      43    R       3      F            2               2          1\n",
       "2      63    R       7      M            3               3          0\n",
       "3      46    H       7      F            4               4          0\n",
       "4      55    H       7      F            3               4          0\n",
       "...   ...  ...     ...    ...          ...             ...        ...\n",
       "1095   24    R       5      F            5               4          1\n",
       "1096   44    H       5      M            3               3          0\n",
       "1097   67    H       5      F            1               1          0\n",
       "1098   35    R       6      F            3               0          1\n",
       "1099   34    H       5      M            3               1          0\n",
       "\n",
       "[1100 rows x 7 columns]"
      ]
     },
     "execution_count": 3,
     "metadata": {},
     "output_type": "execute_result"
    }
   ],
   "source": [
    "dataset"
   ]
  },
  {
   "cell_type": "code",
   "execution_count": 4,
   "metadata": {},
   "outputs": [],
   "source": [
    "#Dividing dataset into X and y\n",
    "X = dataset.iloc[:, [0,2,4,5]].values\n",
    "y = dataset.iloc[:, -1].values"
   ]
  },
  {
   "cell_type": "code",
   "execution_count": 5,
   "metadata": {},
   "outputs": [
    {
     "data": {
      "text/plain": [
       "(array([[23,  2,  3,  2],\n",
       "        [43,  3,  2,  2],\n",
       "        [63,  7,  3,  3],\n",
       "        ...,\n",
       "        [67,  5,  1,  1],\n",
       "        [35,  6,  3,  0],\n",
       "        [34,  5,  3,  1]], dtype=int64),\n",
       " array([1, 1, 0, ..., 0, 1, 0], dtype=int64))"
      ]
     },
     "execution_count": 5,
     "metadata": {},
     "output_type": "execute_result"
    }
   ],
   "source": [
    "X,y"
   ]
  },
  {
   "cell_type": "code",
   "execution_count": 6,
   "metadata": {},
   "outputs": [],
   "source": [
    "#Importing train_test_split from sklearn.model_selection to split data into training and testing sets\n",
    "from sklearn.model_selection import train_test_split\n",
    "X_train, X_test, y_train,  y_test = train_test_split(X,y,test_size=0.2,random_state=0)"
   ]
  },
  {
   "cell_type": "code",
   "execution_count": 7,
   "metadata": {},
   "outputs": [],
   "source": [
    "#Importing StandardScaler from sklearn.preprocessing to scale matrix of features\n",
    "from sklearn.preprocessing import StandardScaler\n",
    "scaled_X = StandardScaler()\n",
    "X_train = scaled_X.fit_transform(X_train)\n",
    "X_test = scaled_X.transform(X_test)"
   ]
  },
  {
   "cell_type": "code",
   "execution_count": 8,
   "metadata": {},
   "outputs": [
    {
     "data": {
      "text/plain": [
       "(array([[-0.26932737, -0.9811246 , -1.78905169,  0.2730212 ],\n",
       "        [ 1.09671345, -0.30075451, -0.95781331, -0.84186815],\n",
       "        [-1.2559124 ,  0.37961559,  1.53590182,  0.83046587],\n",
       "        ...,\n",
       "        [ 0.4895842 ,  1.05998568, -0.12657493, -1.39931282],\n",
       "        [ 0.18601957,  1.05998568, -0.12657493, -1.39931282],\n",
       "        [ 0.26191073,  0.37961559, -0.95781331, -0.84186815]]),\n",
       " array([[-0.0416539 ,  1.05998568,  0.70466344,  1.38791054],\n",
       "        [ 0.41369304,  0.37961559,  0.70466344, -0.28442348],\n",
       "        [-0.34521852,  0.37961559,  0.70466344, -1.39931282],\n",
       "        [ 1.17260461, -0.30075451, -0.12657493,  0.2730212 ],\n",
       "        [-1.2559124 , -0.30075451, -0.12657493,  0.83046587],\n",
       "        [ 0.94493114,  0.37961559, -0.12657493, -0.84186815],\n",
       "        [ 0.64136651, -0.30075451, -0.95781331, -0.84186815],\n",
       "        [ 0.4895842 ,  0.37961559,  1.53590182,  1.94535522],\n",
       "        [-1.2559124 ,  0.37961559, -0.12657493, -0.84186815],\n",
       "        [-1.18002125,  0.37961559,  0.70466344,  1.94535522],\n",
       "        [ 0.03423726,  1.05998568,  0.70466344, -0.28442348],\n",
       "        [-0.34521852,  0.37961559,  0.70466344, -0.28442348],\n",
       "        [-0.57289199, -0.9811246 , -0.12657493, -0.28442348],\n",
       "        [-0.26932737, -0.9811246 , -1.78905169,  0.2730212 ],\n",
       "        [ 0.64136651, -1.66149469, -1.78905169, -1.39931282],\n",
       "        [ 0.33780189,  1.74035577, -0.12657493,  0.83046587],\n",
       "        [-1.10413009, -0.30075451, -0.12657493,  0.2730212 ],\n",
       "        [-1.18002125,  0.37961559,  0.70466344,  1.94535522],\n",
       "        [-1.2559124 ,  0.37961559,  0.70466344,  0.83046587],\n",
       "        [ 0.26191073,  0.37961559, -0.95781331, -0.84186815],\n",
       "        [-0.57289199,  1.05998568,  0.70466344,  0.83046587],\n",
       "        [ 0.94493114,  0.37961559, -0.12657493, -0.84186815],\n",
       "        [-1.10413009,  0.37961559, -0.12657493,  0.2730212 ],\n",
       "        [-0.57289199, -0.30075451,  0.70466344,  0.83046587],\n",
       "        [ 1.17260461, -0.30075451,  0.70466344,  0.2730212 ],\n",
       "        [ 0.86903998, -1.66149469, -1.78905169, -1.39931282],\n",
       "        [-1.2559124 ,  0.37961559, -0.12657493, -0.84186815],\n",
       "        [-0.34521852,  0.37961559,  0.70466344, -1.39931282],\n",
       "        [-0.42110968,  1.05998568, -0.12657493, -1.39931282],\n",
       "        [ 0.86903998, -0.9811246 , -0.12657493, -0.84186815],\n",
       "        [-0.26932737, -0.9811246 , -1.78905169,  0.2730212 ],\n",
       "        [-1.93893281, -1.66149469, -1.78905169, -0.84186815],\n",
       "        [-1.18002125,  0.37961559,  0.70466344,  1.94535522],\n",
       "        [ 0.26191073,  1.74035577,  1.53590182,  0.83046587],\n",
       "        [-0.57289199, -0.9811246 , -0.12657493, -0.28442348],\n",
       "        [ 0.26191073,  0.37961559,  0.70466344, -0.28442348],\n",
       "        [-1.93893281, -1.66149469, -1.78905169, -0.84186815],\n",
       "        [ 1.17260461, -0.30075451,  0.70466344,  0.2730212 ],\n",
       "        [ 0.86903998, -0.30075451,  0.70466344,  1.38791054],\n",
       "        [ 1.24849577,  0.37961559, -1.78905169, -0.84186815],\n",
       "        [ 0.94493114,  1.74035577, -0.12657493,  0.2730212 ],\n",
       "        [ 0.64136651, -1.66149469, -1.78905169, -1.39931282],\n",
       "        [-1.18002125,  0.37961559,  0.70466344,  0.2730212 ],\n",
       "        [-1.2559124 , -1.66149469, -0.12657493, -0.84186815],\n",
       "        [ 1.32438692, -0.9811246 , -0.95781331, -0.28442348],\n",
       "        [ 1.32438692, -1.66149469, -0.12657493, -0.28442348],\n",
       "        [ 1.09671345, -0.30075451, -0.95781331, -0.84186815],\n",
       "        [-0.34521852,  1.74035577,  0.70466344,  0.83046587],\n",
       "        [-0.34521852,  1.05998568,  0.70466344,  0.83046587],\n",
       "        [ 0.26191073,  0.37961559, -0.95781331, -0.84186815],\n",
       "        [-3.60853826,  1.05998568,  0.70466344,  0.83046587],\n",
       "        [ 0.86903998, -1.66149469, -1.78905169, -1.39931282],\n",
       "        [ 0.11012842, -0.30075451, -1.78905169, -0.84186815],\n",
       "        [-0.34521852,  1.74035577,  0.70466344,  0.83046587],\n",
       "        [ 0.64136651, -0.30075451, -0.95781331, -0.84186815],\n",
       "        [ 0.64136651, -0.30075451, -0.95781331, -0.84186815],\n",
       "        [-2.01482397, -0.9811246 , -0.95781331, -0.28442348],\n",
       "        [-1.86304166,  0.37961559,  1.53590182,  0.83046587],\n",
       "        [ 0.03423726,  1.74035577,  1.53590182,  1.94535522],\n",
       "        [-0.64878315, -1.66149469, -1.78905169, -1.39931282],\n",
       "        [-0.34521852, -0.30075451,  0.70466344,  0.2730212 ],\n",
       "        [ 0.64136651, -0.30075451, -0.95781331, -0.84186815],\n",
       "        [ 0.4895842 ,  1.05998568, -0.12657493, -1.39931282],\n",
       "        [-0.34521852, -0.30075451,  0.70466344,  0.2730212 ],\n",
       "        [-2.09071513, -0.30075451,  0.70466344,  1.38791054],\n",
       "        [-0.34521852,  0.37961559,  0.70466344, -1.39931282],\n",
       "        [ 0.03423726,  1.74035577,  1.53590182,  1.94535522],\n",
       "        [ 1.32438692, -1.66149469, -0.12657493, -0.28442348],\n",
       "        [-0.34521852,  0.37961559,  0.70466344, -1.39931282],\n",
       "        [-0.49700084,  0.37961559, -0.12657493,  0.2730212 ],\n",
       "        [-0.34521852, -0.30075451,  0.70466344,  0.2730212 ],\n",
       "        [-1.2559124 ,  0.37961559, -0.12657493, -0.84186815],\n",
       "        [ 0.26191073,  0.37961559, -0.95781331, -0.84186815],\n",
       "        [-1.93893281, -1.66149469, -1.78905169, -0.84186815],\n",
       "        [-0.57289199, -0.30075451,  0.70466344,  1.38791054],\n",
       "        [ 0.4895842 ,  1.05998568, -0.12657493, -1.39931282],\n",
       "        [-0.57289199, -0.9811246 , -0.12657493, -0.28442348],\n",
       "        [ 0.4895842 ,  0.37961559,  1.53590182,  0.2730212 ],\n",
       "        [ 0.18601957,  0.37961559, -0.12657493, -0.84186815],\n",
       "        [-0.64878315, -1.66149469, -1.78905169, -1.39931282],\n",
       "        [ 1.24849577,  0.37961559,  0.70466344, -1.39931282],\n",
       "        [-0.0416539 ,  1.05998568,  0.70466344,  1.38791054],\n",
       "        [-0.57289199, -0.9811246 , -0.12657493, -0.28442348],\n",
       "        [-1.86304166, -0.9811246 , -0.95781331, -0.28442348],\n",
       "        [ 0.18601957,  1.05998568, -0.12657493, -1.39931282],\n",
       "        [ 1.62795155,  1.05998568,  0.70466344,  0.83046587],\n",
       "        [-0.42110968,  1.05998568,  0.70466344, -0.28442348],\n",
       "        [ 0.26191073,  1.74035577,  1.53590182,  0.83046587],\n",
       "        [-1.86304166, -0.30075451, -0.12657493,  0.83046587],\n",
       "        [ 0.94493114,  0.37961559, -0.95781331, -1.39931282],\n",
       "        [-0.42110968, -0.9811246 , -0.12657493, -0.28442348],\n",
       "        [ 1.09671345, -0.9811246 , -0.95781331, -0.28442348],\n",
       "        [-2.09071513,  1.05998568, -0.12657493, -1.39931282],\n",
       "        [-0.57289199, -0.9811246 , -0.95781331, -0.28442348],\n",
       "        [ 0.03423726,  1.05998568,  0.70466344, -0.28442348],\n",
       "        [-0.42110968,  0.37961559,  0.70466344, -0.28442348],\n",
       "        [-0.26932737, -0.9811246 , -1.78905169,  0.2730212 ],\n",
       "        [-1.55947703, -0.9811246 ,  0.70466344, -1.39931282],\n",
       "        [ 1.17260461, -0.30075451, -0.12657493,  0.2730212 ],\n",
       "        [ 1.40027808, -0.30075451,  0.70466344,  1.38791054],\n",
       "        [ 0.94493114,  1.74035577, -0.12657493,  0.2730212 ],\n",
       "        [ 1.09671345,  0.37961559, -0.95781331, -1.39931282],\n",
       "        [ 0.26191073,  1.74035577,  1.53590182,  0.83046587],\n",
       "        [-1.7871505 , -0.9811246 , -0.95781331, -0.28442348],\n",
       "        [-0.57289199, -0.9811246 , -0.12657493, -0.28442348],\n",
       "        [-0.64878315, -1.66149469, -1.78905169, -1.39931282],\n",
       "        [-1.2559124 ,  0.37961559, -0.12657493, -0.84186815],\n",
       "        [ 0.64136651, -1.66149469, -1.78905169, -1.39931282],\n",
       "        [ 0.03423726,  1.05998568,  0.70466344, -0.28442348],\n",
       "        [-0.57289199, -0.9811246 , -0.95781331, -0.28442348],\n",
       "        [ 0.94493114,  0.37961559, -0.12657493, -0.84186815],\n",
       "        [ 1.40027808, -0.30075451,  0.70466344,  1.38791054],\n",
       "        [ 0.18601957, -0.9811246 ,  1.53590182,  0.83046587],\n",
       "        [ 0.64136651, -1.66149469, -1.78905169, -1.39931282],\n",
       "        [ 1.17260461,  0.37961559,  0.70466344,  0.83046587],\n",
       "        [ 1.24849577,  0.37961559, -1.78905169, -0.84186815],\n",
       "        [-1.2559124 ,  0.37961559, -0.12657493, -0.84186815],\n",
       "        [ 1.62795155,  0.37961559, -0.95781331, -1.39931282],\n",
       "        [ 0.11012842, -0.30075451, -1.78905169, -0.84186815],\n",
       "        [ 0.86903998, -0.9811246 , -0.12657493, -0.84186815],\n",
       "        [-0.34521852,  0.37961559,  0.70466344, -1.39931282],\n",
       "        [-0.57289199, -1.66149469, -0.12657493, -0.84186815],\n",
       "        [-1.10413009, -0.30075451, -0.12657493,  0.2730212 ],\n",
       "        [ 1.17260461, -0.30075451, -0.12657493,  0.2730212 ],\n",
       "        [-0.57289199, -1.66149469, -0.12657493, -0.84186815],\n",
       "        [ 0.64136651, -0.30075451, -0.95781331, -0.84186815],\n",
       "        [-1.86304166, -1.66149469, -0.12657493, -0.28442348],\n",
       "        [-0.26932737, -0.9811246 , -1.78905169,  0.2730212 ],\n",
       "        [ 0.56547536,  0.37961559,  1.53590182, -0.28442348],\n",
       "        [-0.34521852,  1.74035577,  0.70466344,  0.83046587],\n",
       "        [-0.34521852,  0.37961559,  0.70466344,  0.83046587],\n",
       "        [-2.09071513,  0.37961559,  1.53590182,  0.83046587],\n",
       "        [ 1.17260461,  0.37961559,  0.70466344,  0.83046587],\n",
       "        [ 0.86903998, -1.66149469, -1.78905169, -1.39931282],\n",
       "        [-1.18002125, -0.30075451,  0.70466344,  1.38791054],\n",
       "        [-1.18002125, -0.30075451,  0.70466344,  0.2730212 ],\n",
       "        [ 0.03423726,  1.05998568,  0.70466344, -0.28442348],\n",
       "        [-0.34521852,  1.74035577,  0.70466344,  0.83046587],\n",
       "        [ 0.26191073,  1.05998568, -0.12657493, -1.39931282],\n",
       "        [ 1.09671345, -0.9811246 , -0.95781331, -0.28442348],\n",
       "        [-1.2559124 ,  0.37961559,  1.53590182, -0.28442348],\n",
       "        [ 0.64136651, -0.30075451, -0.95781331, -0.84186815],\n",
       "        [-1.40769472, -0.9811246 , -0.95781331, -0.28442348],\n",
       "        [-0.0416539 ,  1.05998568,  0.70466344,  1.38791054],\n",
       "        [-1.2559124 ,  0.37961559, -0.12657493, -0.84186815],\n",
       "        [-1.2559124 ,  0.37961559, -0.12657493, -0.84186815],\n",
       "        [-0.34521852,  0.37961559,  0.70466344, -1.39931282],\n",
       "        [-0.64878315, -1.66149469, -1.78905169, -1.39931282],\n",
       "        [ 1.17260461, -0.30075451,  0.70466344,  0.2730212 ],\n",
       "        [ 0.33780189,  1.74035577, -0.12657493,  0.83046587],\n",
       "        [ 0.26191073,  1.74035577,  1.53590182,  0.83046587],\n",
       "        [-1.93893281, -1.66149469, -1.78905169, -0.84186815],\n",
       "        [-1.18002125,  1.05998568, -0.12657493, -1.39931282],\n",
       "        [-0.26932737, -0.30075451, -0.12657493,  0.83046587],\n",
       "        [ 1.32438692, -1.66149469, -0.12657493, -0.28442348],\n",
       "        [-0.57289199, -1.66149469, -0.12657493, -0.84186815],\n",
       "        [-1.55947703, -0.9811246 ,  0.70466344, -1.39931282],\n",
       "        [ 1.62795155,  1.05998568,  0.70466344,  0.83046587],\n",
       "        [-0.0416539 ,  1.05998568,  0.70466344,  1.38791054],\n",
       "        [-0.0416539 ,  1.05998568,  0.70466344,  1.38791054],\n",
       "        [ 1.09671345, -0.30075451, -0.95781331, -0.84186815],\n",
       "        [-2.01482397, -0.30075451, -0.95781331, -0.84186815],\n",
       "        [-2.09071513, -0.9811246 ,  1.53590182,  0.83046587],\n",
       "        [ 0.11012842, -0.30075451, -1.78905169, -0.84186815],\n",
       "        [-0.34521852,  0.37961559,  0.70466344, -1.39931282],\n",
       "        [ 1.17260461, -0.30075451,  0.70466344,  0.2730212 ],\n",
       "        [-0.26932737, -0.9811246 , -1.78905169,  0.2730212 ],\n",
       "        [ 0.26191073,  1.74035577,  1.53590182,  0.83046587],\n",
       "        [ 1.24849577,  0.37961559, -1.78905169, -0.84186815],\n",
       "        [ 1.40027808, -0.30075451,  0.70466344,  1.38791054],\n",
       "        [ 0.4895842 ,  0.37961559,  1.53590182,  1.94535522],\n",
       "        [ 1.24849577,  0.37961559, -1.78905169, -0.84186815],\n",
       "        [-1.55947703, -0.9811246 ,  0.70466344, -1.39931282],\n",
       "        [ 0.26191073,  1.74035577,  1.53590182,  0.83046587],\n",
       "        [ 0.11012842, -0.30075451, -1.78905169, -0.84186815],\n",
       "        [-1.55947703, -0.9811246 ,  0.70466344, -1.39931282],\n",
       "        [ 1.32438692, -0.9811246 , -0.95781331, -0.28442348],\n",
       "        [ 0.03423726,  1.05998568,  0.70466344, -0.28442348],\n",
       "        [ 0.03423726,  1.74035577,  1.53590182,  0.2730212 ],\n",
       "        [-0.19343621,  0.37961559,  0.70466344, -0.28442348],\n",
       "        [-1.93893281,  0.37961559,  1.53590182,  1.94535522],\n",
       "        [-0.49700084,  0.37961559, -0.12657493,  0.2730212 ],\n",
       "        [-1.18002125,  0.37961559,  0.70466344,  1.94535522],\n",
       "        [ 0.26191073,  0.37961559, -0.95781331, -0.84186815],\n",
       "        [-0.34521852, -0.30075451,  0.70466344,  0.2730212 ],\n",
       "        [-1.40769472, -1.66149469, -0.12657493, -0.84186815],\n",
       "        [-0.34521852, -0.30075451,  0.70466344,  0.2730212 ],\n",
       "        [ 0.86903998,  0.37961559, -0.95781331, -1.39931282],\n",
       "        [ 0.94493114,  1.74035577, -0.12657493,  0.2730212 ],\n",
       "        [ 0.11012842, -0.30075451, -1.78905169, -0.84186815],\n",
       "        [-0.64878315, -1.66149469, -1.78905169, -1.39931282],\n",
       "        [ 0.56547536,  0.37961559,  1.53590182,  1.38791054],\n",
       "        [ 0.94493114,  1.74035577, -0.12657493,  0.2730212 ],\n",
       "        [ 1.09671345, -0.9811246 , -0.95781331, -0.28442348],\n",
       "        [ 0.26191073, -1.66149469, -0.12657493, -0.28442348],\n",
       "        [ 1.24849577,  0.37961559, -1.78905169, -0.84186815],\n",
       "        [ 0.26191073,  0.37961559, -0.95781331, -0.84186815],\n",
       "        [-0.34521852,  0.37961559,  0.70466344, -1.39931282],\n",
       "        [-0.34521852,  1.74035577,  0.70466344,  0.83046587],\n",
       "        [ 1.17260461, -0.30075451, -0.12657493,  0.83046587],\n",
       "        [ 1.32438692, -0.9811246 , -0.95781331, -0.28442348],\n",
       "        [-0.34521852, -0.30075451,  0.70466344,  0.2730212 ],\n",
       "        [ 1.32438692,  0.37961559,  1.53590182,  0.83046587],\n",
       "        [-2.24249744, -1.66149469, -1.78905169, -1.39931282],\n",
       "        [ 1.77973386,  1.05998568, -0.12657493, -1.39931282],\n",
       "        [-0.34521852,  0.37961559,  0.70466344, -1.39931282],\n",
       "        [ 0.26191073, -0.30075451, -0.12657493,  0.83046587],\n",
       "        [ 1.24849577,  0.37961559, -1.78905169, -0.84186815],\n",
       "        [ 0.03423726,  1.05998568,  0.70466344, -0.28442348],\n",
       "        [-0.34521852,  0.37961559,  0.70466344, -1.39931282],\n",
       "        [ 0.4895842 ,  1.05998568, -0.12657493, -1.39931282],\n",
       "        [-1.10413009, -0.30075451, -0.12657493,  0.2730212 ],\n",
       "        [ 1.40027808, -0.30075451,  0.70466344,  1.38791054],\n",
       "        [ 1.24849577,  0.37961559, -1.78905169, -0.84186815],\n",
       "        [ 0.86903998, -0.30075451,  0.70466344,  1.38791054],\n",
       "        [ 1.40027808, -0.30075451,  0.70466344,  1.38791054],\n",
       "        [ 1.85562502, -1.66149469, -0.12657493, -0.84186815],\n",
       "        [-0.57289199, -0.9811246 , -0.12657493, -0.28442348],\n",
       "        [ 1.32438692, -0.9811246 , -0.95781331, -0.28442348],\n",
       "        [-0.34521852,  0.37961559,  0.70466344, -1.39931282]]))"
      ]
     },
     "execution_count": 8,
     "metadata": {},
     "output_type": "execute_result"
    }
   ],
   "source": [
    "X_train,X_test"
   ]
  },
  {
   "cell_type": "code",
   "execution_count": 9,
   "metadata": {},
   "outputs": [
    {
     "data": {
      "text/html": [
       "<style>#sk-container-id-1 {color: black;background-color: white;}#sk-container-id-1 pre{padding: 0;}#sk-container-id-1 div.sk-toggleable {background-color: white;}#sk-container-id-1 label.sk-toggleable__label {cursor: pointer;display: block;width: 100%;margin-bottom: 0;padding: 0.3em;box-sizing: border-box;text-align: center;}#sk-container-id-1 label.sk-toggleable__label-arrow:before {content: \"▸\";float: left;margin-right: 0.25em;color: #696969;}#sk-container-id-1 label.sk-toggleable__label-arrow:hover:before {color: black;}#sk-container-id-1 div.sk-estimator:hover label.sk-toggleable__label-arrow:before {color: black;}#sk-container-id-1 div.sk-toggleable__content {max-height: 0;max-width: 0;overflow: hidden;text-align: left;background-color: #f0f8ff;}#sk-container-id-1 div.sk-toggleable__content pre {margin: 0.2em;color: black;border-radius: 0.25em;background-color: #f0f8ff;}#sk-container-id-1 input.sk-toggleable__control:checked~div.sk-toggleable__content {max-height: 200px;max-width: 100%;overflow: auto;}#sk-container-id-1 input.sk-toggleable__control:checked~label.sk-toggleable__label-arrow:before {content: \"▾\";}#sk-container-id-1 div.sk-estimator input.sk-toggleable__control:checked~label.sk-toggleable__label {background-color: #d4ebff;}#sk-container-id-1 div.sk-label input.sk-toggleable__control:checked~label.sk-toggleable__label {background-color: #d4ebff;}#sk-container-id-1 input.sk-hidden--visually {border: 0;clip: rect(1px 1px 1px 1px);clip: rect(1px, 1px, 1px, 1px);height: 1px;margin: -1px;overflow: hidden;padding: 0;position: absolute;width: 1px;}#sk-container-id-1 div.sk-estimator {font-family: monospace;background-color: #f0f8ff;border: 1px dotted black;border-radius: 0.25em;box-sizing: border-box;margin-bottom: 0.5em;}#sk-container-id-1 div.sk-estimator:hover {background-color: #d4ebff;}#sk-container-id-1 div.sk-parallel-item::after {content: \"\";width: 100%;border-bottom: 1px solid gray;flex-grow: 1;}#sk-container-id-1 div.sk-label:hover label.sk-toggleable__label {background-color: #d4ebff;}#sk-container-id-1 div.sk-serial::before {content: \"\";position: absolute;border-left: 1px solid gray;box-sizing: border-box;top: 0;bottom: 0;left: 50%;z-index: 0;}#sk-container-id-1 div.sk-serial {display: flex;flex-direction: column;align-items: center;background-color: white;padding-right: 0.2em;padding-left: 0.2em;position: relative;}#sk-container-id-1 div.sk-item {position: relative;z-index: 1;}#sk-container-id-1 div.sk-parallel {display: flex;align-items: stretch;justify-content: center;background-color: white;position: relative;}#sk-container-id-1 div.sk-item::before, #sk-container-id-1 div.sk-parallel-item::before {content: \"\";position: absolute;border-left: 1px solid gray;box-sizing: border-box;top: 0;bottom: 0;left: 50%;z-index: -1;}#sk-container-id-1 div.sk-parallel-item {display: flex;flex-direction: column;z-index: 1;position: relative;background-color: white;}#sk-container-id-1 div.sk-parallel-item:first-child::after {align-self: flex-end;width: 50%;}#sk-container-id-1 div.sk-parallel-item:last-child::after {align-self: flex-start;width: 50%;}#sk-container-id-1 div.sk-parallel-item:only-child::after {width: 0;}#sk-container-id-1 div.sk-dashed-wrapped {border: 1px dashed gray;margin: 0 0.4em 0.5em 0.4em;box-sizing: border-box;padding-bottom: 0.4em;background-color: white;}#sk-container-id-1 div.sk-label label {font-family: monospace;font-weight: bold;display: inline-block;line-height: 1.2em;}#sk-container-id-1 div.sk-label-container {text-align: center;}#sk-container-id-1 div.sk-container {/* jupyter's `normalize.less` sets `[hidden] { display: none; }` but bootstrap.min.css set `[hidden] { display: none !important; }` so we also need the `!important` here to be able to override the default hidden behavior on the sphinx rendered scikit-learn.org. See: https://github.com/scikit-learn/scikit-learn/issues/21755 */display: inline-block !important;position: relative;}#sk-container-id-1 div.sk-text-repr-fallback {display: none;}</style><div id=\"sk-container-id-1\" class=\"sk-top-container\"><div class=\"sk-text-repr-fallback\"><pre>KNeighborsClassifier(n_neighbors=9)</pre><b>In a Jupyter environment, please rerun this cell to show the HTML representation or trust the notebook. <br />On GitHub, the HTML representation is unable to render, please try loading this page with nbviewer.org.</b></div><div class=\"sk-container\" hidden><div class=\"sk-item\"><div class=\"sk-estimator sk-toggleable\"><input class=\"sk-toggleable__control sk-hidden--visually\" id=\"sk-estimator-id-1\" type=\"checkbox\" checked><label for=\"sk-estimator-id-1\" class=\"sk-toggleable__label sk-toggleable__label-arrow\">KNeighborsClassifier</label><div class=\"sk-toggleable__content\"><pre>KNeighborsClassifier(n_neighbors=9)</pre></div></div></div></div></div>"
      ],
      "text/plain": [
       "KNeighborsClassifier(n_neighbors=9)"
      ]
     },
     "execution_count": 9,
     "metadata": {},
     "output_type": "execute_result"
    }
   ],
   "source": [
    "#Importing KNeighborsClassifier from sklearn.neighbors\n",
    "from sklearn.neighbors import KNeighborsClassifier\n",
    "\n",
    "#Fitting K-NN to Training set\n",
    "classifier = KNeighborsClassifier(n_neighbors = 9, metric = 'minkowski', p = 2)\n",
    "classifier.fit(X_train, y_train)"
   ]
  },
  {
   "cell_type": "code",
   "execution_count": 10,
   "metadata": {},
   "outputs": [],
   "source": [
    "#Predicting y values using predict method in the class\n",
    "y_pred = classifier.predict(X_test)"
   ]
  },
  {
   "cell_type": "code",
   "execution_count": 11,
   "metadata": {},
   "outputs": [
    {
     "data": {
      "text/plain": [
       "(array([0, 0, 0, 1, 1, 0, 1, 1, 0, 1, 0, 0, 1, 1, 1, 0, 1, 1, 0, 0, 0, 0,\n",
       "        0, 0, 1, 1, 0, 0, 0, 1, 1, 1, 1, 0, 1, 0, 1, 1, 1, 0, 0, 1, 0, 1,\n",
       "        1, 1, 0, 0, 0, 0, 1, 1, 0, 0, 1, 1, 1, 1, 0, 0, 1, 1, 0, 1, 1, 0,\n",
       "        0, 1, 0, 0, 1, 0, 0, 1, 1, 0, 1, 0, 0, 0, 0, 0, 1, 1, 0, 0, 0, 0,\n",
       "        0, 0, 1, 1, 0, 0, 0, 0, 1, 0, 1, 0, 0, 0, 0, 1, 1, 0, 0, 1, 0, 0,\n",
       "        0, 0, 0, 1, 0, 0, 0, 0, 0, 1, 0, 1, 1, 1, 1, 1, 1, 1, 0, 0, 0, 1,\n",
       "        0, 1, 1, 1, 0, 0, 0, 1, 0, 1, 1, 0, 0, 0, 0, 0, 1, 0, 0, 1, 0, 1,\n",
       "        1, 1, 0, 0, 0, 0, 0, 1, 1, 0, 0, 1, 1, 0, 0, 0, 1, 0, 0, 0, 0, 0,\n",
       "        1, 0, 0, 0, 1, 0, 1, 0, 1, 1, 1, 0, 0, 0, 0, 1, 0, 1, 1, 0, 0, 0,\n",
       "        0, 1, 1, 1, 1, 1, 0, 0, 1, 0, 0, 0, 0, 1, 0, 0, 1, 0, 1, 1, 1, 0],\n",
       "       dtype=int64),\n",
       " array([0, 0, 0, 1, 1, 0, 1, 1, 0, 1, 0, 0, 0, 1, 1, 0, 0, 1, 0, 0, 0, 0,\n",
       "        0, 0, 0, 1, 0, 0, 0, 1, 1, 1, 1, 0, 0, 0, 1, 0, 1, 0, 0, 0, 0, 1,\n",
       "        1, 0, 0, 0, 0, 0, 0, 1, 0, 0, 0, 0, 1, 1, 1, 0, 0, 1, 0, 1, 1, 0,\n",
       "        1, 1, 1, 1, 0, 0, 0, 1, 1, 0, 0, 0, 0, 0, 0, 0, 0, 1, 0, 0, 0, 0,\n",
       "        0, 0, 0, 1, 0, 1, 0, 0, 1, 0, 0, 0, 0, 0, 0, 1, 1, 0, 0, 1, 0, 0,\n",
       "        0, 0, 1, 1, 1, 0, 0, 0, 0, 1, 0, 0, 1, 1, 0, 1, 1, 0, 0, 0, 0, 1,\n",
       "        1, 1, 1, 1, 1, 0, 0, 1, 0, 0, 1, 0, 0, 0, 1, 0, 0, 0, 0, 1, 1, 1,\n",
       "        1, 1, 0, 0, 0, 0, 0, 0, 1, 0, 0, 0, 1, 0, 0, 0, 1, 0, 0, 1, 0, 0,\n",
       "        1, 0, 0, 0, 0, 1, 1, 0, 1, 1, 0, 0, 0, 0, 0, 0, 0, 1, 1, 0, 0, 0,\n",
       "        0, 0, 0, 0, 1, 1, 0, 0, 1, 0, 1, 0, 0, 1, 1, 0, 0, 1, 1, 0, 1, 1],\n",
       "       dtype=int64))"
      ]
     },
     "execution_count": 11,
     "metadata": {},
     "output_type": "execute_result"
    }
   ],
   "source": [
    "y_pred, y_test"
   ]
  },
  {
   "cell_type": "code",
   "execution_count": 12,
   "metadata": {},
   "outputs": [],
   "source": [
    "#Creating confusion matrix to find model prediction power\n",
    "from sklearn.metrics import confusion_matrix\n",
    "cm = confusion_matrix(y_test, y_pred)"
   ]
  },
  {
   "cell_type": "code",
   "execution_count": 13,
   "metadata": {},
   "outputs": [
    {
     "data": {
      "text/plain": [
       "array([[109,  31],\n",
       "       [ 17,  63]], dtype=int64)"
      ]
     },
     "execution_count": 13,
     "metadata": {},
     "output_type": "execute_result"
    }
   ],
   "source": [
    "cm"
   ]
  },
  {
   "cell_type": "code",
   "execution_count": 14,
   "metadata": {},
   "outputs": [
    {
     "data": {
      "text/plain": [
       "0.82"
      ]
     },
     "execution_count": 14,
     "metadata": {},
     "output_type": "execute_result"
    }
   ],
   "source": [
    "cm = round((117+63)/220, 2)\n",
    "cm"
   ]
  },
  {
   "cell_type": "code",
   "execution_count": 15,
   "metadata": {},
   "outputs": [],
   "source": [
    "from sklearn.metrics import f1_score\n",
    "scoreKNN = f1_score(y_test, y_pred, average='binary')"
   ]
  },
  {
   "cell_type": "code",
   "execution_count": 16,
   "metadata": {},
   "outputs": [
    {
     "name": "stdout",
     "output_type": "stream",
     "text": [
      "0.7241379310344828\n"
     ]
    }
   ],
   "source": [
    "print(scoreKNN)"
   ]
  },
  {
   "cell_type": "code",
   "execution_count": null,
   "metadata": {},
   "outputs": [],
   "source": []
  }
 ],
 "metadata": {
  "kernelspec": {
   "display_name": "Python 3 (ipykernel)",
   "language": "python",
   "name": "python3"
  },
  "language_info": {
   "codemirror_mode": {
    "name": "ipython",
    "version": 3
   },
   "file_extension": ".py",
   "mimetype": "text/x-python",
   "name": "python",
   "nbconvert_exporter": "python",
   "pygments_lexer": "ipython3",
   "version": "3.10.2"
  }
 },
 "nbformat": 4,
 "nbformat_minor": 4
}
