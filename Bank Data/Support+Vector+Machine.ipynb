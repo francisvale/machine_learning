{
 "cells": [
  {
   "cell_type": "code",
   "execution_count": 1,
   "metadata": {},
   "outputs": [],
   "source": [
    "# Support Vector Machine\n",
    "import pandas as pd\n",
    "\n",
    "dataset = pd.read_csv('Bank_Data.csv')\n",
    "X = dataset.iloc[:, [0,2,4,5]].values\n",
    "y = dataset.iloc[:, -1].values\n",
    "\n",
    "from sklearn.model_selection import train_test_split\n",
    "X_train, X_test, y_train,  y_test = train_test_split(X,y,test_size=0.2,random_state=0)\n",
    "\n",
    "from sklearn.preprocessing import StandardScaler\n",
    "sc_X = StandardScaler()\n",
    "X_train = sc_X.fit_transform(X_train)\n",
    "X_test = sc_X.transform(X_test)"
   ]
  },
  {
   "cell_type": "code",
   "execution_count": 2,
   "metadata": {},
   "outputs": [],
   "source": [
    "# Fitting Kernel SVM to the Training set\n",
    "from sklearn.svm import SVC\n",
    "#test for linear, rbf, poly\n",
    "\n",
    "def playsvc(pKernel):\n",
    "    classifier = SVC(kernel = pKernel, random_state = 0)\n",
    "    classifier.fit(X_train, y_train)\n",
    "    # Predicting the Test set results\n",
    "    return classifier.predict(X_test)\n",
    "\n",
    "y_predLin = playsvc('linear')\n",
    "y_predRBF = playsvc('rbf')\n",
    "y_predPoly = playsvc('poly')"
   ]
  },
  {
   "cell_type": "code",
   "execution_count": 3,
   "metadata": {
    "pycharm": {
     "name": "#%%\n"
    }
   },
   "outputs": [
    {
     "name": "stdout",
     "output_type": "stream",
     "text": [
      "0.711111111111111 0.7093023255813954 0.7172413793103448\n"
     ]
    }
   ],
   "source": [
    "#Using F1-Score\n",
    "from sklearn.metrics import f1_score\n",
    "\n",
    "scoreLin = f1_score(y_test, y_predLin, average='binary')\n",
    "scoreRBF = f1_score(y_test, y_predRBF, average='binary')\n",
    "scorePoly = f1_score(y_test, y_predPoly, average='binary')\n",
    "\n",
    "print(scoreLin, scoreRBF, scorePoly)"
   ]
  }
 ],
 "metadata": {
  "kernelspec": {
   "display_name": "Python 3 (ipykernel)",
   "language": "python",
   "name": "python3"
  },
  "language_info": {
   "codemirror_mode": {
    "name": "ipython",
    "version": 3
   },
   "file_extension": ".py",
   "mimetype": "text/x-python",
   "name": "python",
   "nbconvert_exporter": "python",
   "pygments_lexer": "ipython3",
   "version": "3.10.2"
  }
 },
 "nbformat": 4,
 "nbformat_minor": 4
}
